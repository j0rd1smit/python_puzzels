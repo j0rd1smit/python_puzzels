{
 "cells": [
  {
   "cell_type": "markdown",
   "metadata": {
    "collapsed": true,
    "pycharm": {
     "name": "#%% md\n"
    }
   },
   "source": [
    "TODO"
   ]
  },
  {
   "cell_type": "code",
   "execution_count": null,
   "outputs": [],
   "source": [
    "print(\"hello Jordi\")\n",
    "name = \"Jordi\"\n",
    "greeting = \"Hello \" + name\n",
    "print(greeting)\n",
    "\n"
   ],
   "metadata": {
    "collapsed": false,
    "pycharm": {
     "name": "#%%\n"
    }
   }
  },
  {
   "cell_type": "markdown",
   "source": [
    "In this assignment, you will print \"PYTHON\" surrounded by stars:\n",
    "```\n",
    "**************\n",
    "*   PYTHON   *\n",
    "**************\n",
    "```\n",
    "\n"
   ],
   "metadata": {
    "collapsed": false
   }
  },
  {
   "cell_type": "code",
   "execution_count": null,
   "outputs": [],
   "source": [
    "#TODO\n"
   ],
   "metadata": {
    "collapsed": false,
    "pycharm": {
     "name": "#%%\n"
    }
   }
  },
  {
   "cell_type": "markdown",
   "source": [
    "Simple arthimatic"
   ],
   "metadata": {
    "collapsed": false
   }
  },
  {
   "cell_type": "code",
   "execution_count": null,
   "outputs": [],
   "source": [
    "print(1 + 1)\n",
    "print(3 - 1)\n",
    "print(2 * 2)\n",
    "print(3 / 4)\n"
   ],
   "metadata": {
    "collapsed": false,
    "pycharm": {
     "name": "#%%\n"
    }
   }
  },
  {
   "cell_type": "markdown",
   "source": [
    "Define a variable `n` that has the value `42`.\n",
    "\n",
    "Complete the definition of the variable `result` so that it stores the sum of all numbers between 1 and `n`.\n",
    "\n",
    "You can exploit the fact that $\\sum_{i=1}^n i = \\frac{n \\cdot (n + 1)}{2}$ in your code. Make sure your `result` works for any value of `n`.\n",
    "\n",
    "When you are done, change the comment above `result` to state the value you calculated for `n = 42`."
   ],
   "metadata": {
    "collapsed": false
   }
  },
  {
   "cell_type": "code",
   "execution_count": null,
   "outputs": [],
   "source": [
    "result = 0 #TODO\n",
    "\n",
    "assert result == 903, f\"The answer should be 903 but your answer is {result}\""
   ],
   "metadata": {
    "collapsed": false,
    "pycharm": {
     "name": "#%%\n"
    }
   }
  },
  {
   "cell_type": "markdown",
   "source": [
    "Meet Pit. He is doing his minor in Computer Science and during your lovely chat this morning he told you some interesting details about him. \n",
    " \n",
    "First of all, he told you that his student number is \"4445556\".\n",
    "\n",
    "* Create the variable `number_sum` and use Python's arithmetic operators to calculate the sum of the digits in Pit's student number.\n",
    "\n",
    "At a certain point, Pit proudly declared that he was exactly $ 7 \\times 10^8 $ *seconds* old (or, in Python's scientific notation, `7e8`).\n",
    "\n",
    "* Create the variable `age` to indicate his age in *years*. Use Python's arithmetic operators to convert the given number of seconds to years,  and assume that 1 year is equal to 365.25 days.\n",
    "\n",
    "He also shared with you that he has got € 1000 in his savings account, which has a staggering rate of 4% per year.\n",
    "\n",
    "* Create the variable `balance` and use Python's arithmetic operators to calculate how many euros will be in his account after 5 years.\n"
   ],
   "metadata": {
    "collapsed": false
   }
  },
  {
   "cell_type": "code",
   "execution_count": null,
   "outputs": [],
   "source": [
    "number_sum = 0\n",
    "\n",
    "age = 0\n",
    "\n",
    "balance = 0\n"
   ],
   "metadata": {
    "collapsed": false,
    "pycharm": {
     "name": "#%%\n"
    }
   }
  },
  {
   "cell_type": "markdown",
   "source": [
    "Functions are pieces of code that can be reused. Forumlas are good examples of functions. The take in some inputs and they give you a resulting number as output.\n",
    "For example the formula that converts Fahrenheit to Celsius $C = \\frac{F - 32}{1.8}$ can be implemented as the following function:\n",
    "\n",
    "\n"
   ],
   "metadata": {
    "collapsed": false
   }
  },
  {
   "cell_type": "code",
   "execution_count": 2,
   "outputs": [
    {
     "data": {
      "text/plain": "20.0"
     },
     "metadata": {},
     "output_type": "execute_result",
     "execution_count": 2
    }
   ],
   "source": [
    "def to_celsius(degrees_in_f):\n",
    "    return (degrees_in_f - 32) / 1.8\n",
    "\n",
    "\n",
    "to_celsius(68)"
   ],
   "metadata": {
    "collapsed": false,
    "pycharm": {
     "name": "#%%\n",
     "is_executing": false
    }
   }
  },
  {
   "cell_type": "markdown",
   "source": [
    "Now implement the the forumla that converts degrees Celsius to degrees Fahrenheit yourself. Make sure you name this formula `to_fahrenheit`.\n"
   ],
   "metadata": {
    "collapsed": false
   }
  },
  {
   "cell_type": "code",
   "source": [
    "#TODO\n",
    "\n",
    "\n",
    "assert to_fahrenheit(20.0) == 68, f\"20C should be 68F but it is {to_fahrenheit(20.0)}\""
   ],
   "metadata": {
    "collapsed": false,
    "pycharm": {
     "name": "#%% \n"
    }
   },
   "execution_count": null,
   "outputs": []
  },
  {
   "cell_type": "markdown",
   "source": [
    "Functions can also in multiple parameters. \n",
    "Implement the function `hypotenuse(a, b)` that returns the length of the hypotenuse of the right-angled triangle with sides of length `a` and `b` (these are the sides forming the right angle).\n",
    "\n",
    "Remember that the length of the hypotenuse is calculated with the Pythagorean theorem: $$c = \\sqrt{a^2 + b^2}$$.\n",
    "\n",
    "For example, take the triangle with `a` = 3 and `b` = 4. The hypotenuse is of length 5, as $$\\sqrt{3^2 + 4^2} = 5$$.\n",
    "\n",
    "__Hint__: You can use `math.sqrt` to calculate the square root."
   ],
   "metadata": {
    "collapsed": false
   }
  },
  {
   "cell_type": "code",
   "execution_count": null,
   "outputs": [],
   "source": [
    "import math\n",
    "\n",
    "#TODO\n",
    "\n",
    "assert hypotenuse(4, 3) == 5\n",
    "assert hypotenuse(20, 21) == 29\n",
    "assert hypotenuse(80, 39) == 5\n"
   ],
   "metadata": {
    "collapsed": false,
    "pycharm": {
     "name": "#%%\n"
    }
   }
  },
  {
   "cell_type": "markdown",
   "source": [
    "Implement the function `dist(x1, y1, x2, y2)` that calculates the distance between the two points situated at (x1, y1) and (x2, y2).\n",
    "\n",
    "Remember that the distance between two points is calculated with $$\\sqrt{(x_2-x_1)^2 + (y_2 - y_1)^2}$$\n",
    "\n",
    "For example, the distance between the points situated at (0, 0) and (4, 3) should be 5. \n"
   ],
   "metadata": {
    "collapsed": false
   }
  },
  {
   "cell_type": "code",
   "execution_count": null,
   "outputs": [],
   "source": [
    "def dist(x1, y1, x2, y2):\n",
    "    pass  # TODO\n",
    "\n",
    "\n",
    "assert dist(0, 0, 4, 3) == 5\n",
    "assert dist(1, 2, 1, 2) == 0\n"
   ],
   "metadata": {
    "collapsed": false,
    "pycharm": {
     "name": "#%%\n"
    }
   }
  },
  {
   "cell_type": "markdown",
   "source": [
    "If and statement check if something is `True`. The code under this statement will only run if the condition is `True`. If it is `False` the code will not run. For example see what happens when `condition = True` and what happens when `condition = False` in the code bellow.\n",
    "\n",
    "\n"
   ],
   "metadata": {
    "collapsed": false
   }
  },
  {
   "cell_type": "code",
   "execution_count": 4,
   "outputs": [
    {
     "name": "stdout",
     "text": [
      "I have been printed. This means that the condition must be True\n",
      "I will always print\n"
     ],
     "output_type": "stream"
    }
   ],
   "source": [
    "condition = False\n",
    "if condition:\n",
    "    print(\"I have been printed. This means that the condition must be True\")\n",
    "\n",
    "print(\"I will always print\")\n",
    "\n"
   ],
   "metadata": {
    "collapsed": false,
    "pycharm": {
     "name": "#%%\n",
     "is_executing": false
    }
   }
  },
  {
   "cell_type": "markdown",
   "source": [
    "Besides an if statement we also have an else statement. If the condition in the if statement is false the code under the else statement will run. Try it out.\n",
    "\n"
   ],
   "metadata": {
    "collapsed": false
   }
  },
  {
   "cell_type": "code",
   "execution_count": 5,
   "outputs": [
    {
     "name": "stdout",
     "text": [
      "I have been printed. This means that the condition must be False\n"
     ],
     "output_type": "stream"
    }
   ],
   "source": [
    "condition = False\n",
    "if condition:\n",
    "    print(\"I have been printed. This means that the condition must be True\")\n",
    "else:\n",
    "    print(\"I have been printed. This means that the condition must be False\")\n",
    "\n"
   ],
   "metadata": {
    "collapsed": false,
    "pycharm": {
     "name": "#%%\n",
     "is_executing": false
    }
   }
  },
  {
   "cell_type": "markdown",
   "source": [
    "In this assignment you want to implement a function called `talking_parrot`. This function will help you know at any moment if you are in trouble because of your pet parrot Pirate. The input is a Boolean `is_talking` telling you if Pirate is talking and an Integer `hour` representing the current hour in the range 0..23. If Pirate is talking before 7 or after 20 your roommates will be very angry with you and you will be in trouble. Your implementation should return a Boolean indicating whether you are in trouble.\n",
    "\n"
   ],
   "metadata": {
    "collapsed": false
   }
  },
  {
   "cell_type": "code",
   "execution_count": null,
   "outputs": [],
   "source": [
    "def talking_parrot(is_talking, hour):\n",
    "    pass  # TODO\n",
    "\n",
    "\n",
    "assert talking_parrot(True, 7) == False\n",
    "assert talking_parrot(True, 6) == True\n",
    "assert talking_parrot(True, 2) == True\n",
    "assert talking_parrot(False, 20) == False"
   ],
   "metadata": {
    "collapsed": false,
    "pycharm": {
     "name": "#%%\n"
    }
   }
  },
  {
   "cell_type": "markdown",
   "source": [
    "In this assignment you will implement the function is_leap_year. This function takes as input an Integer year representing the year about which you want to know if it is a leap year or not, and should return a Boolean indicating if the year is a leap year."
   ],
   "metadata": {
    "collapsed": false
   }
  },
  {
   "cell_type": "code",
   "execution_count": null,
   "outputs": [],
   "source": [
    "def is_leap_year(year):\n",
    "    pass  # TODO\n",
    "\n",
    "\n",
    "assert is_leap_year(1868) == True\n",
    "assert is_leap_year(2000) == False\n",
    "assert is_leap_year(1933) == False\n",
    "assert is_leap_year(2348) == True\n"
   ],
   "metadata": {
    "collapsed": false,
    "pycharm": {
     "name": "#%%\n"
    }
   }
  }
 ],
 "metadata": {
  "kernelspec": {
   "display_name": "Python 3",
   "language": "python",
   "name": "python3"
  },
  "language_info": {
   "codemirror_mode": {
    "name": "ipython",
    "version": 2
   },
   "file_extension": ".py",
   "mimetype": "text/x-python",
   "name": "python",
   "nbconvert_exporter": "python",
   "pygments_lexer": "ipython2",
   "version": "2.7.6"
  },
  "pycharm": {
   "stem_cell": {
    "cell_type": "raw",
    "source": [],
    "metadata": {
     "collapsed": false
    }
   }
  }
 },
 "nbformat": 4,
 "nbformat_minor": 0
}