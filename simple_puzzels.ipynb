{
 "cells": [
  {
   "cell_type": "markdown",
   "metadata": {
    "collapsed": true,
    "pycharm": {
     "name": "#%% md\n"
    }
   },
   "source": [
    "Your first line of code. The print statement can be used to output a string.\n",
    "It works with strings directly but also with variables."
   ]
  },
  {
   "cell_type": "code",
   "execution_count": null,
   "metadata": {
    "pycharm": {
     "name": "#%%\n"
    }
   },
   "outputs": [],
   "source": [
    "print(\"hello Jordi\")\n",
    "name = \"Jordi\"\n",
    "greeting = \"Hello \" + name\n",
    "print(greeting)\n",
    "\n"
   ]
  },
  {
   "cell_type": "markdown",
   "metadata": {},
   "source": [
    "In this assignment, you will print \"PYTHON\" surrounded by stars:\n",
    "```\n",
    "**************\n",
    "*   PYTHON   *\n",
    "**************\n",
    "```\n",
    "\n",
    "\n",
    "\n"
   ]
  },
  {
   "cell_type": "markdown",
   "metadata": {},
   "source": [
    "Simple math\n",
    "In Python you can do everything you can do with a calculator. Here are some the most basic math operators."
   ]
  },
  {
   "cell_type": "code",
   "execution_count": null,
   "metadata": {
    "pycharm": {
     "name": "#%%\n"
    }
   },
   "outputs": [],
   "source": [
    "print(1 + 1)\n",
    "print(3 - 1)\n",
    "print(2 * 2)\n",
    "print(3 / 4)\n",
    "print(2 ** 4) # This means 2 to the power of 4\n",
    "print(4 % 2) # This is the module operator. It return the remained of division."
   ]
  },
  {
   "cell_type": "markdown",
   "metadata": {},
   "source": [
    "Define a variable `n` that has the value `42`.\n",
    "\n",
    "Complete the definition of the variable `result` so that it stores the sum of all numbers between 1 and `n`.\n",
    "\n",
    "You can exploit the fact that $\\sum_{i=1}^n i = \\frac{n \\cdot (n + 1)}{2}$ in your code. Make sure your `result` works for any value of `n`.\n",
    "\n",
    "When you are done, change the comment above `result` to state the value you calculated for `n = 42`."
   ]
  },
  {
   "cell_type": "code",
   "execution_count": null,
   "metadata": {
    "pycharm": {
     "name": "#%%\n"
    }
   },
   "outputs": [],
   "source": [
    "result = 0 #TODO\n",
    "\n",
    "assert result == 903, f\"The answer should be 903 but your answer is {result}\""
   ]
  },
  {
   "cell_type": "markdown",
   "metadata": {},
   "source": [
    "Meet Pit. He is doing his minor in Computer Science and during your lovely chat this morning he told you some interesting details about him. \n",
    " \n",
    "First of all, he told you that his student number is \"4445556\".\n",
    "\n",
    "* Create the variable `number_sum` and use Python's arithmetic operators to calculate the sum of the digits in Pit's student number.\n",
    "\n",
    "At a certain point, Pit proudly declared that he was exactly $ 7 \\times 10^8 $ *seconds* old (or, in Python's scientific notation, `7e8`).\n",
    "\n",
    "* Create the variable `age` to indicate his age in *years*. Use Python's arithmetic operators to convert the given number of seconds to years,  and assume that 1 year is equal to 365.25 days.\n",
    "\n",
    "He also shared with you that he has got € 1000 in his savings account, which has a staggering rate of 4% per year.\n",
    "\n",
    "* Create the variable `balance` and use Python's arithmetic operators to calculate how many euros will be in his account after 5 years.\n"
   ]
  },
  {
   "cell_type": "code",
   "execution_count": null,
   "metadata": {
    "pycharm": {
     "name": "#%%\n"
    }
   },
   "outputs": [],
   "source": [
    "number_sum = 0\n",
    "age = 0\n",
    "balance = 0\n",
    "\n",
    "\n",
    "print(number_sum)\n",
    "print(age)\n",
    "print(balance)"
   ]
  },
  {
   "cell_type": "markdown",
   "metadata": {},
   "source": [
    "Functions are pieces of code that can be reused. Forumlas are good examples of functions. The take in some inputs and they give you a resulting number as output.\n",
    "For example the formula that converts Fahrenheit to Celsius $C = \\frac{F - 32}{1.8}$ can be implemented as the following function:\n",
    "\n",
    "\n"
   ]
  },
  {
   "cell_type": "code",
   "execution_count": null,
   "metadata": {
    "pycharm": {
     "is_executing": false,
     "name": "#%%\n"
    }
   },
   "outputs": [],
   "source": [
    "def to_celsius(degrees_in_f):\n",
    "    return (degrees_in_f - 32) / 1.8\n",
    "\n",
    "\n",
    "to_celsius(68)"
   ]
  },
  {
   "cell_type": "markdown",
   "metadata": {},
   "source": [
    "Now implement the the forumla that converts degrees Celsius to degrees Fahrenheit yourself. Make sure you name this formula `to_fahrenheit`.\n"
   ]
  },
  {
   "cell_type": "code",
   "execution_count": null,
   "metadata": {
    "pycharm": {
     "name": "#%% \n"
    }
   },
   "outputs": [],
   "source": [
    "#TODO\n",
    "\n",
    "\n",
    "assert to_fahrenheit(20.0) == 68, f\"20C should be 68F but it is {to_fahrenheit(20.0)}\""
   ]
  },
  {
   "cell_type": "markdown",
   "metadata": {},
   "source": [
    "Functions can also in multiple parameters. \n",
    "Implement the function `hypotenuse(a, b)` that returns the length of the hypotenuse of the right-angled triangle with sides of length `a` and `b` (these are the sides forming the right angle).\n",
    "\n",
    "Remember that the length of the hypotenuse is calculated with the Pythagorean theorem: $$c = \\sqrt{a^2 + b^2}$$.\n",
    "\n",
    "For example, take the triangle with `a` = 3 and `b` = 4. The hypotenuse is of length 5, as $$\\sqrt{3^2 + 4^2} = 5$$.\n",
    "\n",
    "__Hint__: You can use `math.sqrt` to calculate the square root."
   ]
  },
  {
   "cell_type": "code",
   "execution_count": null,
   "metadata": {
    "pycharm": {
     "name": "#%%\n"
    }
   },
   "outputs": [],
   "source": [
    "import math\n",
    "\n",
    "#TODO\n",
    "\n",
    "assert hypotenuse(4, 3) == 5\n",
    "assert hypotenuse(20, 21) == 29\n",
    "assert hypotenuse(80, 39) == 5\n"
   ]
  },
  {
   "cell_type": "markdown",
   "metadata": {},
   "source": [
    "Implement the function `dist(x1, y1, x2, y2)` that calculates the distance between the two points situated at (x1, y1) and (x2, y2).\n",
    "\n",
    "Remember that the distance between two points is calculated with $$\\sqrt{(x_2-x_1)^2 + (y_2 - y_1)^2}$$\n",
    "\n",
    "For example, the distance between the points situated at (0, 0) and (4, 3) should be 5. \n"
   ]
  },
  {
   "cell_type": "code",
   "execution_count": null,
   "metadata": {
    "pycharm": {
     "name": "#%%\n"
    }
   },
   "outputs": [],
   "source": [
    "def dist(x1, y1, x2, y2):\n",
    "    pass  # TODO\n",
    "\n",
    "\n",
    "assert dist(0, 0, 4, 3) == 5\n",
    "assert dist(1, 2, 1, 2) == 0\n"
   ]
  },
  {
   "cell_type": "markdown",
   "metadata": {},
   "source": [
    "If and statement check if something is `True`. The code under this statement will only run if the condition is `True`. If it is `False` the code will not run. For example see what happens when `condition = True` and what happens when `condition = False` in the code bellow.\n",
    "\n",
    "\n"
   ]
  },
  {
   "cell_type": "code",
   "execution_count": null,
   "metadata": {
    "pycharm": {
     "is_executing": false,
     "name": "#%%\n"
    }
   },
   "outputs": [],
   "source": [
    "condition = False\n",
    "if condition:\n",
    "    print(\"I have been printed. This means that the condition must be True\")\n",
    "\n",
    "print(\"I will always print\")\n",
    "\n"
   ]
  },
  {
   "cell_type": "markdown",
   "metadata": {},
   "source": [
    "Besides an if statement we also have an else statement. If the condition in the if statement is false the code under the else statement will run. Try it out.\n",
    "\n"
   ]
  },
  {
   "cell_type": "code",
   "execution_count": null,
   "metadata": {
    "pycharm": {
     "is_executing": false,
     "name": "#%%\n"
    }
   },
   "outputs": [],
   "source": [
    "condition = False\n",
    "if condition:\n",
    "    print(\"I have been printed. This means that the condition must be True\")\n",
    "else:\n",
    "    print(\"I have been printed. This means that the condition must be False\")\n",
    "\n"
   ]
  },
  {
   "cell_type": "markdown",
   "metadata": {},
   "source": [
    "In this assignment you want to implement a function called `talking_parrot`. This function will help you know at any moment if you are in trouble because of your pet parrot Pirate. The input is a Boolean `is_talking` telling you if Pirate is talking and an Integer `hour` representing the current hour in the range 0..23. If Pirate is talking before 7 or after 20 your roommates will be very angry with you and you will be in trouble. Your implementation should return a Boolean indicating whether you are in trouble.\n",
    "\n"
   ]
  },
  {
   "cell_type": "code",
   "execution_count": null,
   "metadata": {
    "pycharm": {
     "name": "#%%\n"
    }
   },
   "outputs": [],
   "source": [
    "def talking_parrot(is_talking, hour):\n",
    "    pass  # TODO\n",
    "\n",
    "\n",
    "assert talking_parrot(True, 7) == False\n",
    "assert talking_parrot(True, 6) == True\n",
    "assert talking_parrot(True, 2) == True\n",
    "assert talking_parrot(False, 20) == False"
   ]
  },
  {
   "cell_type": "markdown",
   "metadata": {},
   "source": [
    "In this assignment you will implement the function is_leap_year. This function takes as input an Integer year representing the year about which you want to know if it is a leap year or not, and should return a Boolean indicating if the year is a leap year."
   ]
  },
  {
   "cell_type": "code",
   "execution_count": null,
   "metadata": {
    "pycharm": {
     "is_executing": false,
     "name": "#%%\n"
    }
   },
   "outputs": [],
   "source": [
    "def is_leap_year(year):\n",
    "    pass  # TODO\n",
    "\n",
    "\n",
    "assert is_leap_year(1868) == True\n",
    "assert is_leap_year(2000) == False\n",
    "assert is_leap_year(1933) == False\n",
    "assert is_leap_year(2348) == True\n"
   ]
  },
  {
   "cell_type": "markdown",
   "metadata": {},
   "source": [
    "For loop are piece of the that will repeat $n$ times. For example $\\sum_{i=1}^n i$ can also be calculated using the a for loop:"
   ]
  },
  {
   "cell_type": "code",
   "execution_count": null,
   "metadata": {},
   "outputs": [],
   "source": [
    "n = 10\n",
    "start = 1\n",
    "total_sum = 0\n",
    "for i in range(start, n):\n",
    "    total_sum += i\n",
    "    \n",
    "print(total_sum)"
   ]
  },
  {
   "cell_type": "markdown",
   "metadata": {},
   "source": [
    "The [Basel problem](https://en.wikipedia.org/wiki/Basel_problem) asks for the value of \\\\(\\sum\\limits_{n=1}^{\\infty} \\frac{1}{n^2} = \\frac{1}{1^2} + \\frac{1}{2^2} + \\frac{1}{3^2} + \\frac{1}{4^2} + ...\\\\)\n",
    "\n",
    "Leonhard Euler discovered in 1734 that the sum of the series is exactly equal to \\\\(\\frac{\\pi^2}{6}\\\\) (which approximately equals 1.644934).\n",
    "\n",
    "In this exercise, you will calculate partial sums of this series.\n",
    "\n",
    "---\n",
    "### Exercise\n",
    "\n",
    "Implement the function `basel_sum` that takes an `int` `n` which indicates the number of fractions in the series, and returns the sum of this series. For example for `n = 2` you would calculate \\\\(\\frac{1}{1^2} + \\frac{1}{2^2}\\\\). \n",
    "\n",
    "(For negative values of `n` the function should return `0`.)\n",
    " \n",
    " Just to explore the function you wrote, try it out with several values of `n` and find out how large `n` should be before it approximates \\\\(\\frac{\\pi^2}{6}\\\\) well up to 6 decimal places. (You can do this outside of WebLab in a Python shell.)"
   ]
  },
  {
   "cell_type": "code",
   "execution_count": null,
   "metadata": {},
   "outputs": [],
   "source": [
    "def basel_sum(n):\n",
    "    pass  # TODO\n",
    "\n",
    "\n",
    "assert basel_sum(2) == 1.25\n",
    "assert basel_sum(0) == 0"
   ]
  },
  {
   "cell_type": "code",
   "execution_count": null,
   "metadata": {},
   "outputs": [],
   "source": []
  }
 ],
 "metadata": {
  "kernelspec": {
   "display_name": "Python 3",
   "language": "python",
   "name": "python3"
  },
  "language_info": {
   "codemirror_mode": {
    "name": "ipython",
    "version": 3
   },
   "file_extension": ".py",
   "mimetype": "text/x-python",
   "name": "python",
   "nbconvert_exporter": "python",
   "pygments_lexer": "ipython3",
   "version": "3.7.4"
  },
  "pycharm": {
   "stem_cell": {
    "cell_type": "raw",
    "metadata": {
     "collapsed": false
    },
    "source": []
   }
  }
 },
 "nbformat": 4,
 "nbformat_minor": 1
}
